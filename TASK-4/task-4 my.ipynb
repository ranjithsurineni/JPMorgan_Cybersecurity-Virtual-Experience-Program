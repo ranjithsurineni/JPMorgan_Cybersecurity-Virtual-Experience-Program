{
 "cells": [
  {
   "cell_type": "code",
   "execution_count": 2,
   "id": "566de2f1",
   "metadata": {},
   "outputs": [],
   "source": [
    "class RolesCache:\n",
    "    def __init__(self, capacity):\n",
    "        # Add any additional state you may need.\n",
    "        self.capacity\n",
    "\n",
    "    def get(self, role):\n",
    "        # Returns the message corresponding to the last invocation of that role, None if the role does not exist in the cache.\n",
    "        print(\"Your role is:\")\n",
    "\n",
    "    def set(self, role, message):\n",
    "        # Adds the role and its corresponding message to the cache.\n",
    "        # If the role already exists, only the message is updated. Otherwise, the oldest role is removed to make space.\n",
    "        add_role(self.roles)\n",
    "\n",
    "    def _complexity(self):\n",
    "        return {\n",
    "            'get': 'O(1)',\n",
    "            'set': 'O(2)',\n",
    "            'space': 'O(3)'\n",
    "        }"
   ]
  },
  {
   "cell_type": "code",
   "execution_count": null,
   "id": "7b1b3305",
   "metadata": {},
   "outputs": [],
   "source": []
  }
 ],
 "metadata": {
  "kernelspec": {
   "display_name": "Python 3 (ipykernel)",
   "language": "python",
   "name": "python3"
  },
  "language_info": {
   "codemirror_mode": {
    "name": "ipython",
    "version": 3
   },
   "file_extension": ".py",
   "mimetype": "text/x-python",
   "name": "python",
   "nbconvert_exporter": "python",
   "pygments_lexer": "ipython3",
   "version": "3.11.5"
  }
 },
 "nbformat": 4,
 "nbformat_minor": 5
}
